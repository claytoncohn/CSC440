{
 "cells": [
  {
   "cell_type": "code",
   "execution_count": 4,
   "metadata": {},
   "outputs": [
    {
     "name": "stdout",
     "output_type": "stream",
     "text": [
      "GCD of 30030 and 257 = 1\n"
     ]
    }
   ],
   "source": [
    "'''\n",
    "1.  (5 points) Exercise 4, p. 104\n",
    "\n",
    "    a. Use the Euclidean algorithm to compute gcd(30030, 257)\n",
    "       \n",
    "       Using the Euclidean algorithm in a small function below, we see that the gcd of the \n",
    "       two numbers 30030 and 257 is 1. They are coprime.\n",
    "       \n",
    "    b. Using the result of part (a) and the fact that 30030 2*3*5*7*11*13, show that 257 is prime.\n",
    "    \n",
    "       If 257 is composite, then there exists a prime number under 17 (17 ** 2 = 289) that divides 257. \n",
    "       But we know from 2a that the prime factoriation of 30030 is the product of all primes under 17,\n",
    "       and since we've already shown that 257 and 30030 are coprime, it is not possible for them to share\n",
    "       any factors greater than 1. Thus, 257 cannot be composite, and therefore must be prime.\n",
    "    \n",
    "'''\n",
    "\n",
    "import math\n",
    "\n",
    "def eGCD(a, b):\n",
    "    if a == 0: return b\n",
    "    if b == 0: return a\n",
    "    return eGCD(b, a % b)\n",
    "\n",
    "print(\"GCD of 30030 and 257 = {0}\".format(eGCD(30030, 257)))"
   ]
  },
  {
   "cell_type": "code",
   "execution_count": 5,
   "metadata": {},
   "outputs": [
    {
     "name": "stdout",
     "output_type": "stream",
     "text": [
      "GCD of 4883 and 4369 = 257\n"
     ]
    }
   ],
   "source": [
    "'''\n",
    "2.  (5 points) Exercise 5, p. 104\n",
    "    \n",
    "    a. Compute gcd(4883, 4369).\n",
    "    \n",
    "       Using the eGCD function from above, we calculate the gcd of 4883 and 4369 to be 257.\n",
    "    \n",
    "    \n",
    "    b. Factor 4883 and 4369 into products of primes.\n",
    "    \n",
    "       Utilizing the prime factorization method below, your get:\n",
    "       \n",
    "       Prime factorization of 4883: [19, 257]\n",
    "       Prime factorization of 4369: [17, 257]\n",
    "    \n",
    "'''\n",
    "\n",
    "print(\"GCD of 4883 and 4369 = {0}\".format(eGCD(4883, 4369)))"
   ]
  },
  {
   "cell_type": "code",
   "execution_count": 21,
   "metadata": {},
   "outputs": [],
   "source": [
    "def getPrimes(n):\n",
    "    \n",
    "    factors = list()\n",
    "    \n",
    "    while n % 2 == 0:\n",
    "        factors.append(2)\n",
    "        n /= 2\n",
    "        \n",
    "    for i in range(3, int(math.sqrt(n)) + 1, 2):\n",
    "        while n % i == 0:\n",
    "            factors.append(i)\n",
    "            n /= i\n",
    "    \n",
    "    if n > 2:\n",
    "        factors.append(int(n))\n",
    "\n",
    "    return factors"
   ]
  },
  {
   "cell_type": "code",
   "execution_count": 22,
   "metadata": {},
   "outputs": [
    {
     "name": "stdout",
     "output_type": "stream",
     "text": [
      "Prime factorization of 4883: [19, 257]\n",
      "Prime factorization of 4369: [17, 257]\n"
     ]
    }
   ],
   "source": [
    "print(\"Prime factorization of 4883: {0}\".format(getPrimes(4883)))\n",
    "print(\"Prime factorization of 4369: {0}\".format(getPrimes(4369)))"
   ]
  },
  {
   "cell_type": "code",
   "execution_count": null,
   "metadata": {},
   "outputs": [],
   "source": [
    "'''\n",
    "3.  (5 points) Exercise 11, p. 105\n",
    "\n",
    "    Let p be prime. Show that a ** p === a mod p for all a.\n",
    "    \n",
    "    There are two possibilities two consider: the first is that p divides a, and the second\n",
    "    is that p does not divide a. \n",
    "    \n",
    "    If the first is true, and p does divide a, then both sides are equivalent to 0 mod p.\n",
    "    For example, if a = 10 and p = 2, then 10 ** 2 = 100, which is equivalent to 0 mod 2. \n",
    "    The other side of the equation, a mod p, is also equivalent to 0 mod 2. Hence, both sides\n",
    "    are equal to 0 mod p, which holds true for all numbers a and p such that p divides a.\n",
    "    \n",
    "    In the second scenario, p does not divide a, and this covers the rest of the numbers\n",
    "    not included in scenario number one. Fermat's little theorem tells us that if p does not divide a, \n",
    "    then a ** (p-1) === 1 mod p, and if we multiply both sides by a, we end up with a(a ** (p-1)) === a(1) mod p.\n",
    "    This is in turn equivalent to a ** p === a mod p, which is in fact what we are aiming to show.\n",
    "    \n",
    "    Thus, for any two numbers p and a, a ** p === a mod p.\n",
    "'''"
   ]
  },
  {
   "cell_type": "code",
   "execution_count": null,
   "metadata": {},
   "outputs": [],
   "source": [
    "'''\n",
    "4.  (5 points) Exercise 12, p. 105\n",
    "\n",
    "    Divide 2 ** 10203 by 101. What is the remainder.\n",
    "    \n",
    "    101 is a prime number. Thus, we know from Fermat's little theorem that 2 ** 100 === 1 mod 101. \n",
    "    Since we know that 2 ** 100 === 1 mod 101, we can say that 2 ** (100 * n) === 1 ** n mod 101 also,\n",
    "    because we are just raising each side to the power n. So, we know that 2 ** 100n === 1 mod 101, and\n",
    "    therefore 2 ** 10200 === 1 mod 101 because 100 divides 10200. We are then left with a remainder of \n",
    "    2 ** 3, or: \n",
    "    \n",
    "    8 mod 101.\n",
    "'''"
   ]
  },
  {
   "cell_type": "code",
   "execution_count": null,
   "metadata": {},
   "outputs": [],
   "source": [
    "'''\n",
    "5.  (5 points) Exercise 13, p. 105\n",
    "\n",
    "    Find the last two digits of 123 ** 562.\n",
    "    \n",
    "    Euler's theorem states that a ** phi(n) === 1 mod n. If we are looking for a two-digit number,\n",
    "    then we are looking for what number between 0 and 99 our value is congruent to (mod 100). \n",
    "    We know that phi(100) = 40, and also that phi(123) is equal to 40 because 100 and 123\n",
    "    are coprime. So, we end up with 123 ** 40 === 1 mod 100, or 23 ** 40 === 1 mod 100 because we are mod 100.\n",
    "    \n",
    "    Since 560 / 40 = 14, we can also say that (23 ** 40) ** 14 = 23 ** 560 = 1 mod 100. \n",
    "    Since 23 ** 562 is equivalent to (23 ** 560) * (23 ** 2), we can simply take the last \n",
    "    two digits of 529 (23 ** 2).\n",
    "    \n",
    "    We are therefore left with the digits 29 as our answer.  \n",
    "'''"
   ]
  },
  {
   "cell_type": "code",
   "execution_count": null,
   "metadata": {},
   "outputs": [],
   "source": [
    "'''\n",
    "6. (10 points) Stream cipher with the Blum-Blum-Shub CSPRNG Write a program that:\n",
    "\n",
    "    Takes as input a plaintext that is a sequence of bits represented as a string of zeroes and ones\n",
    "    \n",
    "    Using the Blum-Blum-Shub CSPRNG written in the last assignment and initialized as shown in the textbook, \n",
    "    generate a sequence of key bits represented as a string of zeroes and ones with the same \n",
    "    length as the input string\n",
    "    \n",
    "    Create a ciphertext string of ones and zeroes where each bit is the exclusive-or of the \n",
    "    corresponding bits in the plaintext and key strings\n",
    "    \n",
    "    Print the ciphertext string as a sequence of bits in groups of 4\n",
    "    \n",
    "    You can test your program with this plaintext string, which is the word SECURE in ASCII:\n",
    "    0101 0011 0100 0101 0100 0011 0101 0101 0101 0010 0100 0101\n",
    "\n",
    "'''"
   ]
  }
 ],
 "metadata": {
  "kernelspec": {
   "display_name": "Python 3",
   "language": "python",
   "name": "python3"
  },
  "language_info": {
   "codemirror_mode": {
    "name": "ipython",
    "version": 3
   },
   "file_extension": ".py",
   "mimetype": "text/x-python",
   "name": "python",
   "nbconvert_exporter": "python",
   "pygments_lexer": "ipython3",
   "version": "3.7.4"
  }
 },
 "nbformat": 4,
 "nbformat_minor": 2
}
