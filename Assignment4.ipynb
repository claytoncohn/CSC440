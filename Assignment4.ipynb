{
 "cells": [
  {
   "cell_type": "code",
   "execution_count": null,
   "metadata": {},
   "outputs": [],
   "source": [
    "'''\n",
    "Clayton Cohn\n",
    "20200217\n",
    "CSC440\n",
    "Assignment 4\n",
    "'''\n",
    "\n",
    "'''\n",
    "1. (10 points) Exercise 4, page 147\n",
    "\n",
    "    For a string of bits S, let Sbar denote the complementary string obtained by changing all the 1s to 0s\n",
    "    and all the 0s to 1s (equivalently, Sbar = S ^ 11111....). Show that if DES key K encrypts P to C, then\n",
    "    Kbar encrypts Pbar to Cbar. (Hint: This has nothing to do with the structure of the S-boxes. To do the\n",
    "    problem, just work through the encryption algorithm).\n",
    "'''"
   ]
  },
  {
   "cell_type": "code",
   "execution_count": null,
   "metadata": {},
   "outputs": [],
   "source": [
    "'''\n",
    "2. (10 points) Exercise 6 on page 147\n",
    "\n",
    "    Suppose Triple DES is performed by choosing two keys K1, K2 and computing Ek1(Ek2(Ek2(m))) (note that the order\n",
    "    of the keys has been modified from the usual two-key version of Triple DES). Show how to attack this modified \n",
    "    version with a meet-in-the-middle attack.\n",
    "'''"
   ]
  },
  {
   "cell_type": "code",
   "execution_count": null,
   "metadata": {},
   "outputs": [],
   "source": [
    "'''\n",
    "3. (50 points) Implement encryption in the textbook's simplified DES scheme. \n",
    "\n",
    "    Write the program so that it contains a method called encrypt(plaintext, key) \n",
    "    where the plaintext and the key are both integers. The first must be in the range 0 to 4095 \n",
    "    and the second in the range 0 to 511. My suggestion is to write this method with the first part \n",
    "    generating a list or array of the four sub-keys and the second part a loop that iterates four times, \n",
    "    once for each round. In that loop, call methods for carrying out an exclusive-or, for expanding, \n",
    "    and for applying each of the two S-boxes. I am leaving a number of details unspecified but those will \n",
    "    be filled in as you begin to work on this and ask me questions. I will provide test data in the form \n",
    "    of plaintexts, keys, and their resulting ciphertexts.\n",
    "\n",
    "    Please also add to the program a driver method for testing your encryption. This method should prompt \n",
    "    for the plaintext and the key as integers, call the encryption method, and then output the ciphertext.\n",
    "\n",
    "\n",
    "'''"
   ]
  }
 ],
 "metadata": {
  "kernelspec": {
   "display_name": "Python 3",
   "language": "python",
   "name": "python3"
  },
  "language_info": {
   "codemirror_mode": {
    "name": "ipython",
    "version": 3
   },
   "file_extension": ".py",
   "mimetype": "text/x-python",
   "name": "python",
   "nbconvert_exporter": "python",
   "pygments_lexer": "ipython3",
   "version": "3.7.4"
  }
 },
 "nbformat": 4,
 "nbformat_minor": 2
}
