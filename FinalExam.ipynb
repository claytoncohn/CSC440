{
 "cells": [
  {
   "cell_type": "code",
   "execution_count": 1,
   "metadata": {},
   "outputs": [
    {
     "name": "stdout",
     "output_type": "stream",
     "text": [
      "Shift: 1, Coinc: 20\n",
      "\n",
      "Shift: 2, Coinc: 17\n",
      "\n",
      "Shift: 3, Coinc: 17\n",
      "\n",
      "Shift: 4, Coinc: 9\n",
      "\n",
      "Shift: 5, Coinc: 23\n",
      "\n",
      "Shift: 6, Coinc: 24\n",
      "\n",
      "Shift: 7, Coinc: 21\n",
      "\n",
      "Shift: 8, Coinc: 22\n",
      "\n",
      "Shift: 9, Coinc: 18\n",
      "\n",
      "Shift: 10, Coinc: 14\n",
      "\n",
      "Shift: 11, Coinc: 42\n",
      "\n",
      "Shift: 12, Coinc: 17\n",
      "\n",
      "Shift: 13, Coinc: 22\n",
      "\n",
      "Shift: 14, Coinc: 23\n",
      "\n"
     ]
    },
    {
     "data": {
      "text/plain": [
       "'\\nBased on the above code (derived from provided pseudocode), the shift with the most\\ncoincidences is 11, which has 42 coincidences. That means that the likely length of the\\nVigenère key from the provided ciphertext is 11.\\n'"
      ]
     },
     "execution_count": 1,
     "metadata": {},
     "output_type": "execute_result"
    }
   ],
   "source": [
    "'''\n",
    "Breaking Vigenére with a crib (5 points). \n",
    "\n",
    "You are given the ciphertext below that you know to be the result of \n",
    "applying the Vigenére cipher with a key of no more than 12 letters. \n",
    "\n",
    "You suspect that the crib word \"think\" occurs in the first 25 letters. Use that to break it.\n",
    "'''\n",
    "\n",
    "ciphertext = \"XHUXMKSAMMERSQYSVHDALZCRBSOLRTJMGWLZTBYWHHRRUMITFGTIPQVXUOPBMWIFEESWIEWWBRLEESA\" + \\\n",
    "             \"PLHNSGFJVLJQAVWFHHVVLVZEVLVTAVFJITPCXICYEMTSTTBYHWLQFCLWQHZSBVWKHPVRIDOGJLRGHKE\" + \\\n",
    "             \"SJWHAMTHVNEVWOGASWSLKTDZSGPRXXZBSSKHGVRXRVVGWUHXVRGDZAPGKSSICVKLZJDWFHVRVKLVXCV\" + \\\n",
    "             \"SGHXVAFINEMOXUXVSDQEVAHIOEKWLQDOTZTASTDUAEFMQIHGZEOMCKZWRORFQVLJSDGTJEESLKTDZSG\" + \\\n",
    "             \"PLRKLIWGGCQZIIKLLEVSHIOITALDPFWFIOIGTYAZBLVTTSITPVEWEOILMJWPANCFJXJXZDUQYAQSPYP\" + \\\n",
    "             \"ZTZBDHMRNVJKWLAFPBSRAMJWHZPRABIOMJQLTTSXOCKQRXUBLWFSSPXWDYULBQMTHVJ\"\n",
    "\n",
    "# Create function based on above pseudocode to determine (likely) length of Vigenère key.\n",
    "def getKeyLength(ciphertext):\n",
    "    for i in range(1,15):\n",
    "        shifted = ciphertext[-i:] + ciphertext[:-i]\n",
    "        counter = 0\n",
    "        for j in range(0, len(ciphertext)):\n",
    "            if shifted[j] == ciphertext[j]:\n",
    "                counter += 1\n",
    "        \n",
    "        print(\"Shift: {0}, Coinc: {1}\\n\".format(i, counter))\n",
    "        \n",
    "getKeyLength(ciphertext)\n",
    "\n",
    "'''\n",
    "Based on the above code (derived from provided pseudocode), the shift with the most\n",
    "coincidences is 11, which has 42 coincidences. That means that the likely length of the\n",
    "Vigenère key from the provided ciphertext is 11.\n",
    "''' "
   ]
  },
  {
   "cell_type": "code",
   "execution_count": 2,
   "metadata": {},
   "outputs": [
    {
     "data": {
      "text/plain": [
       "'PHILOSOPHER'"
      ]
     },
     "execution_count": 2,
     "metadata": {},
     "output_type": "execute_result"
    }
   ],
   "source": [
    "# Now that we know the key length is 11, let's implement our getKey method from Assignment2:\n",
    "\n",
    "def getKey(ciphertext, n):\n",
    "    \n",
    "    # Create placeholder for the key of length n\n",
    "    key = \"\"\n",
    "    \n",
    "    # English language letter distribution\n",
    "    A = [.082, .015, .028, .043, .127, .022, .020, .061, .070, .002,\n",
    "        .008, .040, .024, .067, .075, .019, .001, .060, .063, .091,\n",
    "        .028, .010, .023, .001, .020, .001]\n",
    "    \n",
    "    # For each part of the key\n",
    "    for i in range(n):\n",
    "        \n",
    "        # First create array of every n character\n",
    "        chars = []\n",
    "        for j in range(len(ciphertext)):\n",
    "            if j % n == i:\n",
    "                chars.append(ciphertext[j])\n",
    "                \n",
    "        # For each i, get the character distributions\n",
    "        V = [0] * 26\n",
    "        for j in range(len(chars)):\n",
    "            V[ord(chars[j]) - ord('A')] += 1\n",
    "        \n",
    "        # Convert each distribution to a percentage\n",
    "        W = [0] * 26\n",
    "        for j in range(len(V)):\n",
    "            W[j] = round(V[j] / len(chars), 4)\n",
    "        \n",
    "        # Find largest value j for W * Aj\n",
    "        sums = [0] * 26\n",
    "        for j in range(26):\n",
    "            Aj = A[-j:] + A[:-j]\n",
    "            total = 0\n",
    "            for k in range(len(W)):\n",
    "                total += W[k] * Aj[k]\n",
    "            sums[j] = round(total, 3)\n",
    "            \n",
    "        # Find max of sums and convert index to char    \n",
    "        index = sums.index(max(sums))\n",
    "        letter = chr(ord('A') + index)\n",
    "        key += letter\n",
    "        \n",
    "    return key\n",
    "                        \n",
    "key = getKey(ciphertext, 11)\n",
    "key"
   ]
  },
  {
   "cell_type": "code",
   "execution_count": 3,
   "metadata": {},
   "outputs": [
    {
     "name": "stdout",
     "output_type": "stream",
     "text": [
      "IAMMYSELFINCLINEDTOTHINKTHATDECIPHERINGISANAFFAIROFTIMEINGENUITYANDPATIENCEANDTHATVERYFEWCIPHERSAREWORTHTHETROUBLEOFUNRAVELLINGTHEMONEOFTHEMOSTSINGULARCHARACTERISTICSOFTHEARTOFDECIPHERINGISTHESTRONGCONVICTIONPOSSESSEDBYEVERYPERSONEVENMODERATELYACQUAINTEDWITHITTHATHEISABLETOCONSTRUCTACIPHERWHICHNOBODYELSECANDECIPHERIHAVEALSOOBSERVEDTHATTHECLEVERERTHEPERSONTHEMOREINTIMATEISHISCONVICTIONINMYEARLIESTSTUDYOFTHESUBJECTISHAREDINTHISBELIEFANDMAINTAINEDITFORMANYYEARS\n"
     ]
    }
   ],
   "source": [
    "# And then to decrypt with the key\n",
    "def vigenere_decrypt(ciphertext, key):\n",
    "    n = len(key)\n",
    "    key_int = [ord(i) - ord('A') for i in key]\n",
    "    ciphertext_int = [ord(i) - ord('A') for i in ciphertext]\n",
    "    plaintext = \"\"\n",
    "    \n",
    "    for i in range(len(ciphertext)):\n",
    "        val = (ciphertext_int[i] - key_int[i % n]) % 26\n",
    "        char = chr(val + ord('A'))\n",
    "        plaintext += char\n",
    "    \n",
    "    return plaintext\n",
    "\n",
    "plaintext = vigenere_decrypt(ciphertext, key)\n",
    "print(plaintext)"
   ]
  },
  {
   "cell_type": "code",
   "execution_count": 4,
   "metadata": {},
   "outputs": [
    {
     "data": {
      "text/plain": [
       "2338819780"
      ]
     },
     "execution_count": 4,
     "metadata": {},
     "output_type": "execute_result"
    }
   ],
   "source": [
    "'''\n",
    "RSA encryption and signature (15 points) \n",
    "\n",
    "In this problem, you are going to send me a digitally signed message using RSA with a 128-bit modulus \n",
    "for both the signature and the encryption. \n",
    "\n",
    "Generate your own RSA keys. \n",
    "\n",
    "To generate the signature, consult the procedure on page 245. \n",
    "'''\n",
    "\n",
    "'''\n",
    "1.  Create a plaintext m that is your student id number multiplied by the height of the highest point in Wisconsin. \n",
    "    Finding that height was supposed to be a little diversion from the work of the final. \n",
    "    That apparently failed so here's the value: 1951.\n",
    "\n",
    "'''\n",
    "height = 1951\n",
    "dpu_id = 1198780\n",
    "m = 1951 * 1198780\n",
    "m"
   ]
  },
  {
   "cell_type": "code",
   "execution_count": 5,
   "metadata": {},
   "outputs": [],
   "source": [
    "'''\n",
    "2.  Create your own RSA keys nA and eA with the modulus containing no more than 127 bits. \n",
    "    This will guarantee that values encrypted with these keys are no more than 127 bits in length. \n",
    "    Note that this is a slight change from the 128 bits stated in the exam.\n",
    "'''\n",
    "\n",
    "# p and q generated randomly from website: https://asecuritysite.com/encryption/random3?val=8\n",
    "\n",
    "p = 496870560775040327                         # 59 bits\n",
    "q = 16477733467337812643                       # 64 bits\n",
    "n = 8187300668217788611846832210295454261      # 123 bits\n",
    "    \n",
    "phi_n = 8187300668217788594872228182182601292  # (p-1) * (q-1)\n",
    "        \n",
    "# e must be in between 1 and phi(n), and also must be coprime with phi(n)\n",
    "e = 3"
   ]
  },
  {
   "cell_type": "code",
   "execution_count": 6,
   "metadata": {},
   "outputs": [
    {
     "data": {
      "text/plain": [
       "1"
      ]
     },
     "execution_count": 6,
     "metadata": {},
     "output_type": "execute_result"
    }
   ],
   "source": [
    "# Check that phi_n % e != 0\n",
    "phi_n % e"
   ]
  },
  {
   "cell_type": "code",
   "execution_count": 7,
   "metadata": {},
   "outputs": [
    {
     "data": {
      "text/plain": [
       "5458200445478525729914818788121734195"
      ]
     },
     "execution_count": 7,
     "metadata": {},
     "output_type": "execute_result"
    }
   ],
   "source": [
    "# Calculate our d value to create the signature\n",
    "d = (2*phi_n + 1) // e\n",
    "d "
   ]
  },
  {
   "cell_type": "code",
   "execution_count": 8,
   "metadata": {},
   "outputs": [
    {
     "data": {
      "text/plain": [
       "5579000807474235066489191621015518410"
      ]
     },
     "execution_count": 8,
     "metadata": {},
     "output_type": "execute_result"
    }
   ],
   "source": [
    "'''\n",
    "3.  Create a digital signature from m called s.\n",
    "\n",
    "    s = m^d mod n\n",
    "'''\n",
    "\n",
    "s = pow(m,d,n)\n",
    "s"
   ]
  },
  {
   "cell_type": "code",
   "execution_count": 9,
   "metadata": {},
   "outputs": [],
   "source": [
    "'''\n",
    "Using the variable names from that procedure, your message m is your seven-digit DePaul id number \n",
    "multiplied by the height in feet of the highest point in Wisconsin. \n",
    "\n",
    "Let cm denote the encrypted message and cs the encrypted signature, both encrypted using my public keys.\n",
    "\n",
    "My public keys are the following:\n",
    "\n",
    "n = 433101827453818529674861602460176423853\n",
    "e = 34258983635230832483\n",
    "'''\n",
    "n_bob = 433101827453818529674861602460176423853\n",
    "e_bob = 34258983635230832483"
   ]
  },
  {
   "cell_type": "code",
   "execution_count": 10,
   "metadata": {},
   "outputs": [
    {
     "data": {
      "text/plain": [
       "250321993341100643804362776828247673629"
      ]
     },
     "execution_count": 10,
     "metadata": {},
     "output_type": "execute_result"
    }
   ],
   "source": [
    "'''\n",
    "4.  Encrypt m for transmission to me (Bob). This is the value cm.\n",
    "'''\n",
    "cm = pow(m,e_bob,n_bob)\n",
    "cm"
   ]
  },
  {
   "cell_type": "code",
   "execution_count": 11,
   "metadata": {},
   "outputs": [
    {
     "data": {
      "text/plain": [
       "141993753745530359302700541300342466938"
      ]
     },
     "execution_count": 11,
     "metadata": {},
     "output_type": "execute_result"
    }
   ],
   "source": [
    "'''\n",
    "5.  Encrypt s for transmission to me (Bob). This is the value cs.\n",
    "'''\n",
    "cs = pow(s,e_bob,n_bob)\n",
    "cs"
   ]
  },
  {
   "cell_type": "code",
   "execution_count": 12,
   "metadata": {},
   "outputs": [
    {
     "data": {
      "text/plain": [
       "'\\n6.  Send me the block described in the exam, which contains nA, eA, cm, and cs.\\n\\n=RSA=\\nCohn, Clayton\\nn 8187300668217788611846832210295454261\\ne 3\\ncm 250321993341100643804362776828247673629\\ncs 141993753745530359302700541300342466938\\n'"
      ]
     },
     "execution_count": 12,
     "metadata": {},
     "output_type": "execute_result"
    }
   ],
   "source": [
    "'''\n",
    "6.  Send me the block described in the exam, which contains nA, eA, cm, and cs.\n",
    "\n",
    "=RSA=\n",
    "Cohn, Clayton\n",
    "n 8187300668217788611846832210295454261\n",
    "e 3\n",
    "cm 250321993341100643804362776828247673629\n",
    "cs 141993753745530359302700541300342466938\n",
    "'''"
   ]
  },
  {
   "cell_type": "code",
   "execution_count": 13,
   "metadata": {},
   "outputs": [],
   "source": [
    "'''\n",
    "Meet in the middle attack (10 points) \n",
    "\n",
    "You have a known 12-bit plaintext 1660 (011001111100) and a 12-bit ciphertext 2509 (100111001101). \n",
    "\n",
    "You know that the system used was a double encipherment where the first stage used the simple DES \n",
    "from the book and the second stage used a right bit-rotation shift. \n",
    "\n",
    "There are 512 possible DES keys and 12 possible rotation shifts. Using a meet-in-the-middle attack, \n",
    "determine the 9-bit DES key and the shift that were used, stated in a block as follows:\n",
    "'''\n",
    "pt = 1660\n",
    "ct = 2509"
   ]
  },
  {
   "cell_type": "code",
   "execution_count": 14,
   "metadata": {},
   "outputs": [],
   "source": [
    "# Using my encrypt method from Assignment 4\n",
    "\n",
    "import binascii\n",
    "from textwrap import wrap\n",
    "\n",
    "def encrypt(plaintext, key):\n",
    "    \n",
    "    plaintext = bin(plaintext)[2:]\n",
    "    while (len(plaintext) < 12): plaintext = \"0\" + plaintext\n",
    "\n",
    "    key = bin(key)[2:]\n",
    "    while (len(key) < 9): key = \"0\" + key\n",
    "\n",
    "    # First make sure arguments are without bounds\n",
    "    if len(plaintext) not in range(0, 4096) or len(key) not in range(0, 512):\n",
    "        print(\"Invalid lengths.\")\n",
    "        return\n",
    "    \n",
    "    # Identify the s-boxes\n",
    "    s1 =    [\n",
    "                [\"101\", \"010\", \"001\", \"110\", \"011\", \"100\", \"111\", \"000\"],\n",
    "                [\"001\", \"100\", \"110\", \"010\", \"000\", \"111\", \"101\", \"011\"] \n",
    "            ]\n",
    "    s2 =    [\n",
    "                [\"100\", \"000\", \"110\", \"101\", \"111\", \"001\", \"011\", \"010\"],\n",
    "                [\"101\", \"011\", \"000\", \"111\", \"110\", \"010\", \"001\", \"100\"]\n",
    "            ]\n",
    "    \n",
    "    # Separate plaintext into 12-bit blocks\n",
    "    blocks = wrap(plaintext,12)\n",
    "    \n",
    "    # Pad last block with 0s\n",
    "    blocks[-1] = blocks[-1].ljust(12,\"0\")[:12]\n",
    "    \n",
    "    # Generate subkeys from key\n",
    "    long_key = key * 2\n",
    "    subkeys = [long_key[0:8], long_key[1:9], long_key[2:10], long_key[3:11]]\n",
    "\n",
    "    # Create ciphertext\n",
    "    ciphertext = \"\"\n",
    "    \n",
    "    # For each block...\n",
    "    for i in range(0,len(blocks)):\n",
    "        block = blocks[i]\n",
    "        \n",
    "        # Split block into left and right\n",
    "        l, r = block[:len(block)//2], block[len(block)//2:]\n",
    "        \n",
    "        # 4 rounds for simplified version\n",
    "        for j in range (0,4):\n",
    "            \n",
    "            # Copy previous left and right\n",
    "            l_old = l\n",
    "            \n",
    "            # Get appropriate key\n",
    "            k = subkeys[j]\n",
    "            \n",
    "            # Assign next l to current r\n",
    "            l = r\n",
    "            \n",
    "            # Perform f on r\n",
    "        \n",
    "            # First expand the r\n",
    "            r = expand(r)\n",
    "            \n",
    "            # XOR k (keys[i]) with r\n",
    "            r = xor(r,k,8)\n",
    "            \n",
    "            # Split bits and prepare for s-boxes\n",
    "            r1, r2 = r[:len(r)//2], r[len(r)//2:] \n",
    "            \n",
    "            s1row = int(r1[0])\n",
    "            s1col = int(r1[1:],2)\n",
    "    \n",
    "            s2row = int(r2[0])\n",
    "            s2col = int(r2[1:],2)\n",
    "            \n",
    "            sbox1_choice = s1[s1row][s1col]\n",
    "            sbox2_choice = s2[s2row][s2col]\n",
    "            \n",
    "            #Output of function f is those 6 bits\n",
    "            f = sbox1_choice + sbox2_choice\n",
    "            \n",
    "            # To get the new r, we need to xor f with the previous l\n",
    "            r = xor(l_old,f,6)\n",
    "                        \n",
    "        # Add blocks to ciphertext\n",
    "        ciphertext += l + r\n",
    "    \n",
    "    if len(ciphertext) == 0: return 0\n",
    "    else: ciphertext = int(ciphertext, 2)\n",
    "        \n",
    "    # Return int ciphertext\n",
    "    # print(\"\\nCiphertext: {0}\".format(ciphertext))\n",
    "    return ciphertext\n",
    "        \n",
    "# Helper function to use as E for expansion from 6 bits to 8\n",
    "def expand(s):\n",
    "    result = s[0] + s[1] + s[3] + s[2] + s[3] + s[2] + s[4] + s[5]\n",
    "    return result\n",
    "\n",
    "# Helper function to xor two bit strings\n",
    "def xor(s1, s2, n):\n",
    "    n1 = int(s1,2)\n",
    "    n2 = int(s2,2)\n",
    "    result = bin(n1^n2)[2:]\n",
    "    \n",
    "    # If result is not n bits, we must 0 append to beginning of result\n",
    "    nZeros = n-len(result)\n",
    "    zs = \"0\" * nZeros\n",
    "    result = zs + result\n",
    "    \n",
    "    return result"
   ]
  },
  {
   "cell_type": "code",
   "execution_count": 15,
   "metadata": {},
   "outputs": [],
   "source": [
    "# We will start by encrypting the plaintext with all possible keys:\n",
    "\n",
    "des_key_pairs = {}\n",
    "for i in range(512):\n",
    "    des_key_pairs.update({ encrypt(pt,i) : i })\n"
   ]
  },
  {
   "cell_type": "code",
   "execution_count": 16,
   "metadata": {},
   "outputs": [
    {
     "name": "stdout",
     "output_type": "stream",
     "text": [
      "{157: 0, 3043: 1, 3917: 2, 1589: 3, 2031: 4, 3966: 5, 231: 6, 3008: 7, 3631: 8, 1809: 9, 2278: 10, 25: 11, 449: 12, 2356: 182, 3738: 14, 1833: 15, 1056: 16, 3583: 17, 1444: 18, 1376: 19, 2067: 20, 2420: 21, 2258: 22, 1085: 23, 2774: 24, 936: 25, 3367: 26, 623: 27, 2824: 28, 2959: 29, 2661: 30, 2595: 31, 1360: 32, 2485: 33, 3925: 34, 1581: 255, 2047: 36, 3950: 37, 1029: 38, 2091: 39, 3834: 40, 374: 41, 2270: 42, 33: 43, 497: 343, 2308: 45, 3649: 46, 233: 47, 2790: 48, 923: 49}\n"
     ]
    }
   ],
   "source": [
    "from itertools import islice\n",
    "print({k:v for (k,v) in [d for d in des_key_pairs.items()][:50]})"
   ]
  },
  {
   "cell_type": "code",
   "execution_count": 17,
   "metadata": {},
   "outputs": [],
   "source": [
    "# We will employ a shift_left function to \"decrypt\" the shift right used to encipher it\n",
    "def shift_left(text,n):\n",
    "    text = bin(text)[2:]\n",
    "    while len(text) < 12:\n",
    "        text = \"0\" + text\n",
    "    return int(text[n:] + text[:n],2)"
   ]
  },
  {
   "cell_type": "code",
   "execution_count": 18,
   "metadata": {},
   "outputs": [],
   "source": [
    "# Now we will decrypt the ciphertext with all possible keys\n",
    "shift_right_key_pairs = {}\n",
    "for i in range(12):\n",
    "    shift_right_key_pairs.update({ shift_left(ct,i) : i })"
   ]
  },
  {
   "cell_type": "code",
   "execution_count": 19,
   "metadata": {},
   "outputs": [
    {
     "name": "stdout",
     "output_type": "stream",
     "text": [
      "{2509: 0, 923: 1, 1846: 2, 3692: 3, 3289: 4, 2483: 5, 871: 6, 1742: 7, 3484: 8, 2873: 9, 1651: 10, 3302: 11}\n"
     ]
    }
   ],
   "source": [
    "print({k:v for (k,v) in [d for d in shift_right_key_pairs.items()]})"
   ]
  },
  {
   "cell_type": "code",
   "execution_count": 20,
   "metadata": {},
   "outputs": [],
   "source": [
    "# Cross reference lists to find candidates\n",
    "candidates = []\n",
    "\n",
    "for key in shift_right_key_pairs.keys():\n",
    "    if key in des_key_pairs:\n",
    "        candidates.append((des_key_pairs[key], shift_right_key_pairs[key]))"
   ]
  },
  {
   "cell_type": "code",
   "execution_count": 21,
   "metadata": {},
   "outputs": [
    {
     "name": "stdout",
     "output_type": "stream",
     "text": [
      "152, 0\n",
      "49, 1\n",
      "315, 5\n",
      "271, 11\n"
     ]
    }
   ],
   "source": [
    "for t in candidates:\n",
    "    a, b = t\n",
    "    print(str(a) + \", \" + str(b))"
   ]
  },
  {
   "cell_type": "code",
   "execution_count": 22,
   "metadata": {},
   "outputs": [],
   "source": [
    "# Add the right shift and des decrypt for testing\n",
    "def shift_right(text,n):\n",
    "    text = int(text)\n",
    "    text_b = bin(text)[2:]\n",
    "    while len(text_b) < 12:\n",
    "        text_b = \"0\" + text_b\n",
    "    rotated_text = text_b[-n:] + text_b[:-n]\n",
    "    return int(rotated_text,2)"
   ]
  },
  {
   "cell_type": "code",
   "execution_count": 23,
   "metadata": {},
   "outputs": [
    {
     "name": "stdout",
     "output_type": "stream",
     "text": [
      "Please enter plaintext: 1660\n",
      "Please enter des key: 271\n",
      "middle:  3302\n",
      "Please enter shift right key: 11\n",
      "Return value: 2509\n"
     ]
    }
   ],
   "source": [
    "# We have 4 candidates, now we will test them via the encryption\n",
    "plaintext = input(\"Please enter plaintext: \")\n",
    "k = input(\"Please enter des key: \")\n",
    "if (plaintext.isdigit() and k.isdigit()): \n",
    "    middle = encrypt(int(plaintext), int(k))\n",
    "    print(\"middle: \",middle)\n",
    "    k = int(input(\"Please enter shift right key: \"))\n",
    "    n = shift_right(middle,k)\n",
    "    print(\"Return value: \" + str(n))\n",
    "else: \n",
    "    print(\"Either your plaintext or key was not a deimal number. Please try again .\")"
   ]
  },
  {
   "cell_type": "code",
   "execution_count": 24,
   "metadata": {},
   "outputs": [],
   "source": [
    "# Using decrypt from assignment 5 to make sure everything works\n",
    "def decrypt(ciphertext,key):\n",
    "    \n",
    "    ciphertext = bin(ciphertext)[2:]\n",
    "    while (len(ciphertext) < 12): ciphertext = \"0\" + ciphertext\n",
    "\n",
    "    key = bin(key)[2:]\n",
    "    while (len(key) < 9): key = \"0\" + key\n",
    "    \n",
    "    # First make sure arguments are without bounds\n",
    "    if len(ciphertext) not in range(0, 4096) or len(key) not in range(0, 512):\n",
    "        print(\"Invalid lengths.\")\n",
    "        return\n",
    "    \n",
    "    # Identify the s-boxes\n",
    "    s1 =    [\n",
    "                [\"101\", \"010\", \"001\", \"110\", \"011\", \"100\", \"111\", \"000\"],\n",
    "                [\"001\", \"100\", \"110\", \"010\", \"000\", \"111\", \"101\", \"011\"] \n",
    "            ]\n",
    "    s2 =    [\n",
    "                [\"100\", \"000\", \"110\", \"101\", \"111\", \"001\", \"011\", \"010\"],\n",
    "                [\"101\", \"011\", \"000\", \"111\", \"110\", \"010\", \"001\", \"100\"]\n",
    "            ]\n",
    "    \n",
    "    # Separate ciphertext into 12-bit blocks\n",
    "    blocks = wrap(ciphertext,12)\n",
    "    \n",
    "    # Pad last block with 0s\n",
    "    blocks[-1] = blocks[-1].ljust(12,\"0\")[:12]\n",
    "    \n",
    "    # Generate subkeys from key\n",
    "    long_key = key * 2\n",
    "    subkeys = [long_key[0:8], long_key[1:9], long_key[2:10], long_key[3:11]]\n",
    "    \n",
    "    # Create plaintext\n",
    "    plaintext = \"\"\n",
    "    \n",
    "    # For each block...\n",
    "    for i in range(len(blocks) - 1, -1, -1):\n",
    "        block = blocks[i]\n",
    "        \n",
    "        # Split block into left and right\n",
    "        l, r = block[:len(block)//2], block[len(block)//2:]\n",
    "        \n",
    "        # 4 rounds for simplified version\n",
    "        for j in range(3,-1,-1):\n",
    "            \n",
    "            # 1. Next r = current l\n",
    "            next_r = l\n",
    "            \n",
    "            # 2. v = expand(next_r) ^ subkeys[i]\n",
    "            next_r_expanded = expand(next_r)\n",
    "            v = xor(next_r_expanded,subkeys[j],8)\n",
    "    \n",
    "            # Split bits and prepare for s-boxes\n",
    "            r1, r2 = v[:len(v)//2], v[len(v)//2:] \n",
    "            \n",
    "            s1row = int(r1[0])\n",
    "            s1col = int(r1[1:],2)\n",
    "    \n",
    "            s2row = int(r2[0])\n",
    "            s2col = int(r2[1:],2)\n",
    "            \n",
    "            sbox1_choice = s1[s1row][s1col]\n",
    "            sbox2_choice = s2[s2row][s2col]\n",
    "            \n",
    "            #Output of function f is those 6 bits\n",
    "            f = sbox1_choice + sbox2_choice\n",
    "            \n",
    "            # To get the new l, we need to xor f with the previous r\n",
    "            l = xor(r,f,6)\n",
    "            \n",
    "            # Set r = next_r\n",
    "            r = next_r\n",
    "                        \n",
    "        # Prepend blocks to plaintext\n",
    "        plaintext = l + r + plaintext\n",
    "    \n",
    "    if len(plaintext) == 0: return 0\n",
    "    else: plaintext = int(plaintext, 2)\n",
    "        \n",
    "    # Return int plaintext\n",
    "    return plaintext"
   ]
  },
  {
   "cell_type": "code",
   "execution_count": 25,
   "metadata": {},
   "outputs": [
    {
     "name": "stdout",
     "output_type": "stream",
     "text": [
      "Please enter ciphertext: 2509\n",
      "Please enter shift right key: 11\n",
      "middle:  3302\n",
      "Please enter des key: 271\n",
      "Return value: 1660\n"
     ]
    }
   ],
   "source": [
    "# Run the decryption\n",
    "ciphertext = input(\"Please enter ciphertext: \")\n",
    "k = input(\"Please enter shift right key: \")\n",
    "if (ciphertext.isdigit() and k.isdigit()): \n",
    "    middle = int(shift_left(int(ciphertext),int(k)))\n",
    "    print(\"middle: \",middle)\n",
    "    k = int(input(\"Please enter des key: \"))\n",
    "    n = int(decrypt(int(middle),int(k)))\n",
    "    print(\"Return value: \" + str(n))\n",
    "else: \n",
    "    print(\"Either your plaintext or key was not a deimal number. Please try again .\")"
   ]
  },
  {
   "cell_type": "code",
   "execution_count": 26,
   "metadata": {},
   "outputs": [
    {
     "data": {
      "text/plain": [
       "'\\n=MITM=\\nCohn, Clayton\\nDESkey [152,49,315,271]\\nShift [0,1,5,11]\\n'"
      ]
     },
     "execution_count": 26,
     "metadata": {},
     "output_type": "execute_result"
    }
   ],
   "source": [
    "'''\n",
    "=MITM=\n",
    "Cohn, Clayton\n",
    "DESkey [152,49,315,271]g\n",
    "Shift [0,1,5,11]\n",
    "'''"
   ]
  },
  {
   "cell_type": "code",
   "execution_count": null,
   "metadata": {},
   "outputs": [],
   "source": [
    "'''\n",
    "The ElGamal ciphersystem (10 points) \n",
    "\n",
    "Using the ElGamal keys I supply below, encrypt your 7-digit student id number and provide the ciphertext. \n",
    "\n",
    "Recall that the ElGamal system works as follows, where Alice (you) wish to send a message (your id) to Bob (me):\n",
    "\n",
    "    Bob chooses a large prime p and an integer α less than p (which should be a primitive element), \n",
    "    a secret integer a and then he computes β=αa mod p.\n",
    "    \n",
    "    Alice chooses a random integer k and computes y1=αk mod p, y2=xβk mod p, where x is her message.\n",
    "    \n",
    "    She sends these y values to Bob.\n",
    "\n",
    "    Bob then uses his secret information to decrypt.\n",
    "\n",
    "My public keys are:\n",
    "\n",
    "p = 1416545561\n",
    "α = 512170907\n",
    "β = 331036412\n",
    "'''"
   ]
  },
  {
   "cell_type": "code",
   "execution_count": null,
   "metadata": {},
   "outputs": [],
   "source": []
  },
  {
   "cell_type": "code",
   "execution_count": null,
   "metadata": {},
   "outputs": [],
   "source": [
    "'''\n",
    "Provide your answers in a block of text with the format:\n",
    "=ElGamal=\n",
    "Lastname, firstname\n",
    "y1 <value>\n",
    "y2 <value>\n",
    "'''"
   ]
  },
  {
   "cell_type": "code",
   "execution_count": null,
   "metadata": {},
   "outputs": [],
   "source": []
  },
  {
   "cell_type": "code",
   "execution_count": null,
   "metadata": {},
   "outputs": [],
   "source": []
  }
 ],
 "metadata": {
  "kernelspec": {
   "display_name": "Python 3",
   "language": "python",
   "name": "python3"
  },
  "language_info": {
   "codemirror_mode": {
    "name": "ipython",
    "version": 3
   },
   "file_extension": ".py",
   "mimetype": "text/x-python",
   "name": "python",
   "nbconvert_exporter": "python",
   "pygments_lexer": "ipython3",
   "version": "3.7.4"
  }
 },
 "nbformat": 4,
 "nbformat_minor": 4
}
