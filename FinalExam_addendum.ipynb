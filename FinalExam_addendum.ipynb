{
 "cells": [
  {
   "cell_type": "code",
   "execution_count": 3,
   "metadata": {},
   "outputs": [
    {
     "name": "stdout",
     "output_type": "stream",
     "text": [
      "Shift: 1, Coinc: 20\n",
      "\n",
      "Shift: 2, Coinc: 17\n",
      "\n",
      "Shift: 3, Coinc: 17\n",
      "\n",
      "Shift: 4, Coinc: 9\n",
      "\n",
      "Shift: 5, Coinc: 23\n",
      "\n",
      "Shift: 6, Coinc: 24\n",
      "\n",
      "Shift: 7, Coinc: 21\n",
      "\n",
      "Shift: 8, Coinc: 22\n",
      "\n",
      "Shift: 9, Coinc: 18\n",
      "\n",
      "Shift: 10, Coinc: 14\n",
      "\n",
      "Shift: 11, Coinc: 42\n",
      "\n",
      "Shift: 12, Coinc: 17\n",
      "\n",
      "Shift: 13, Coinc: 22\n",
      "\n",
      "Shift: 14, Coinc: 23\n",
      "\n"
     ]
    },
    {
     "data": {
      "text/plain": [
       "'\\nBased on the above code (derived from provided pseudocode), the shift with the most\\ncoincidences is 11, which has 42 coincidences. That means that the likely length of the\\nVigenère key from the provided ciphertext is 11.\\n'"
      ]
     },
     "execution_count": 3,
     "metadata": {},
     "output_type": "execute_result"
    }
   ],
   "source": [
    "'''\n",
    "Breaking Vigenére with a crib (5 points). \n",
    "\n",
    "You are given the ciphertext below that you know to be the result of \n",
    "applying the Vigenére cipher with a key of no more than 12 letters. \n",
    "\n",
    "You suspect that the crib word \"think\" occurs in the first 25 letters. Use that to break it.\n",
    "'''\n",
    "\n",
    "ciphertext = \"XHUXMKSAMMERSQYSVHDALZCRBSOLRTJMGWLZTBYWHHRRUMITFGTIPQVXUOPBMWIFEESWIEWWBRLEESA\" + \\\n",
    "             \"PLHNSGFJVLJQAVWFHHVVLVZEVLVTAVFJITPCXICYEMTSTTBYHWLQFCLWQHZSBVWKHPVRIDOGJLRGHKE\" + \\\n",
    "             \"SJWHAMTHVNEVWOGASWSLKTDZSGPRXXZBSSKHGVRXRVVGWUHXVRGDZAPGKSSICVKLZJDWFHVRVKLVXCV\" + \\\n",
    "             \"SGHXVAFINEMOXUXVSDQEVAHIOEKWLQDOTZTASTDUAEFMQIHGZEOMCKZWRORFQVLJSDGTJEESLKTDZSG\" + \\\n",
    "             \"PLRKLIWGGCQZIIKLLEVSHIOITALDPFWFIOIGTYAZBLVTTSITPVEWEOILMJWPANCFJXJXZDUQYAQSPYP\" + \\\n",
    "             \"ZTZBDHMRNVJKWLAFPBSRAMJWHZPRABIOMJQLTTSXOCKQRXUBLWFSSPXWDYULBQMTHVJ\"\n",
    "\n",
    "# Create function based on above pseudocode to determine (likely) length of Vigenère key.\n",
    "def getKeyLength(ciphertext):\n",
    "    for i in range(1,15):\n",
    "        shifted = ciphertext[-i:] + ciphertext[:-i]\n",
    "        counter = 0\n",
    "        for j in range(0, len(ciphertext)):\n",
    "            if shifted[j] == ciphertext[j]:\n",
    "                counter += 1\n",
    "        \n",
    "        print(\"Shift: {0}, Coinc: {1}\\n\".format(i, counter))\n",
    "        \n",
    "getKeyLength(ciphertext)\n",
    "\n",
    "'''\n",
    "Based on the above code (derived from provided pseudocode), the shift with the most\n",
    "coincidences is 11, which has 42 coincidences. That means that the likely length of the\n",
    "Vigenère key from the provided ciphertext is 11.\n",
    "''' "
   ]
  },
  {
   "cell_type": "code",
   "execution_count": 5,
   "metadata": {},
   "outputs": [
    {
     "data": {
      "text/plain": [
       "'PHILOSOPHER'"
      ]
     },
     "execution_count": 5,
     "metadata": {},
     "output_type": "execute_result"
    }
   ],
   "source": [
    "# Now that we know the key length is 11, let's implement our getKey method from Assignment2:\n",
    "\n",
    "def getKey(ciphertext, n):\n",
    "    \n",
    "    # Create placeholder for the key of length n\n",
    "    key = \"\"\n",
    "    \n",
    "    # English language letter distribution\n",
    "    A = [.082, .015, .028, .043, .127, .022, .020, .061, .070, .002,\n",
    "        .008, .040, .024, .067, .075, .019, .001, .060, .063, .091,\n",
    "        .028, .010, .023, .001, .020, .001]\n",
    "    \n",
    "    # For each part of the key\n",
    "    for i in range(n):\n",
    "        \n",
    "        # First create array of every n character\n",
    "        chars = []\n",
    "        for j in range(len(ciphertext)):\n",
    "            if j % n == i:\n",
    "                chars.append(ciphertext[j])\n",
    "                \n",
    "        # For each i, get the character distributions\n",
    "        V = [0] * 26\n",
    "        for j in range(len(chars)):\n",
    "            V[ord(chars[j]) - ord('A')] += 1\n",
    "        \n",
    "        # Convert each distribution to a percentage\n",
    "        W = [0] * 26\n",
    "        for j in range(len(V)):\n",
    "            W[j] = round(V[j] / len(chars), 4)\n",
    "        \n",
    "        # Find largest value j for W * Aj\n",
    "        sums = [0] * 26\n",
    "        for j in range(26):\n",
    "            Aj = A[-j:] + A[:-j]\n",
    "            total = 0\n",
    "            for k in range(len(W)):\n",
    "                total += W[k] * Aj[k]\n",
    "            sums[j] = round(total, 3)\n",
    "            \n",
    "        # Find max of sums and convert index to char    \n",
    "        index = sums.index(max(sums))\n",
    "        letter = chr(ord('A') + index)\n",
    "        key += letter\n",
    "        \n",
    "    return key\n",
    "                        \n",
    "key = getKey(ciphertext, 11)\n",
    "key"
   ]
  },
  {
   "cell_type": "code",
   "execution_count": 6,
   "metadata": {},
   "outputs": [
    {
     "name": "stdout",
     "output_type": "stream",
     "text": [
      "IAMMYSELFINCLINEDTOTHINKTHATDECIPHERINGISANAFFAIROFTIMEINGENUITYANDPATIENCEANDTHATVERYFEWCIPHERSAREWORTHTHETROUBLEOFUNRAVELLINGTHEMONEOFTHEMOSTSINGULARCHARACTERISTICSOFTHEARTOFDECIPHERINGISTHESTRONGCONVICTIONPOSSESSEDBYEVERYPERSONEVENMODERATELYACQUAINTEDWITHITTHATHEISABLETOCONSTRUCTACIPHERWHICHNOBODYELSECANDECIPHERIHAVEALSOOBSERVEDTHATTHECLEVERERTHEPERSONTHEMOREINTIMATEISHISCONVICTIONINMYEARLIESTSTUDYOFTHESUBJECTISHAREDINTHISBELIEFANDMAINTAINEDITFORMANYYEARS\n"
     ]
    }
   ],
   "source": [
    "# And then to decrypt with the key\n",
    "def vigenere_decrypt(ciphertext, key):\n",
    "    n = len(key)\n",
    "    key_int = [ord(i) - ord('A') for i in key]\n",
    "    ciphertext_int = [ord(i) - ord('A') for i in ciphertext]\n",
    "    plaintext = \"\"\n",
    "    \n",
    "    for i in range(len(ciphertext)):\n",
    "        val = (ciphertext_int[i] - key_int[i % n]) % 26\n",
    "        char = chr(val + ord('A'))\n",
    "        plaintext += char\n",
    "    \n",
    "    return plaintext\n",
    "\n",
    "plaintext = vigenere_decrypt(ciphertext, key)\n",
    "print(plaintext)"
   ]
  },
  {
   "cell_type": "code",
   "execution_count": 61,
   "metadata": {},
   "outputs": [],
   "source": [
    "'''\n",
    "RSA encryption and signature (15 points) \n",
    "\n",
    "In this problem, you are going to send me a digitally signed message using RSA with a 128-bit modulus \n",
    "for both the signature and the encryption. \n",
    "\n",
    "Generate your own RSA keys. \n",
    "\n",
    "To generate the signature, consult the procedure on page 245. \n",
    "'''\n",
    "\n",
    "# Signature\n",
    "\n",
    "n = 433101827453818529674861602460176423853 # given\n",
    "e = 34258983635230832483 # given\n",
    "\n",
    "m_decrypt = pow()\n"
   ]
  },
  {
   "cell_type": "code",
   "execution_count": 64,
   "metadata": {},
   "outputs": [
    {
     "data": {
      "text/plain": [
       "12803365189851741242742213000"
      ]
     },
     "execution_count": 64,
     "metadata": {},
     "output_type": "execute_result"
    }
   ],
   "source": [
    "'''\n",
    "Using the variable names from that procedure, your message m is your seven-digit DePaul id number \n",
    "multiplied by the height in feet of the highest point in Wisconsin. \n",
    "\n",
    "Let cm denote the encrypted message and cs the encrypted signature, both encrypted using my public keys.\n",
    "\n",
    "My public keys are the following:\n",
    "\n",
    "n = 433101827453818529674861602460176423853\n",
    "e = 34258983635230832483\n",
    "'''\n",
    "\n",
    "# Encryption (bob)\n",
    "\n",
    "# Bob receives Alice's public key (e,n) -> (3,227480916410571261644447231186739639241) to lock his message m with\n",
    "\n",
    "timms = 1951.5 # highest point in Wisconsin\n",
    "id_num = 1198780\n",
    "\n",
    "m = 2339419170 # timms*id_num\n",
    "\n",
    "# Bob locks message with m ^ e mod n = ciphertext (c), and sends to Alice\n",
    "c = pow(m,e,n)"
   ]
  },
  {
   "cell_type": "code",
   "execution_count": null,
   "metadata": {},
   "outputs": [],
   "source": [
    "n_bob = \n",
    "e_bob = 34258983635230832483"
   ]
  },
  {
   "cell_type": "code",
   "execution_count": null,
   "metadata": {},
   "outputs": [],
   "source": [
    "'''\n",
    "For your answer, provide a block of text with your values:\n",
    "=RSA=\n",
    "Lastname, Firstname\n",
    "n <value>\n",
    "e <value>\n",
    "cm <value>\n",
    "cs <value>\n",
    "'''"
   ]
  },
  {
   "cell_type": "code",
   "execution_count": null,
   "metadata": {},
   "outputs": [],
   "source": []
  }
 ],
 "metadata": {
  "kernelspec": {
   "display_name": "Python 3",
   "language": "python",
   "name": "python3"
  },
  "language_info": {
   "codemirror_mode": {
    "name": "ipython",
    "version": 3
   },
   "file_extension": ".py",
   "mimetype": "text/x-python",
   "name": "python",
   "nbconvert_exporter": "python",
   "pygments_lexer": "ipython3",
   "version": "3.7.4"
  }
 },
 "nbformat": 4,
 "nbformat_minor": 4
}
