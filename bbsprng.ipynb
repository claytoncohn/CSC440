{
 "cells": [
  {
   "cell_type": "code",
   "execution_count": 14,
   "metadata": {},
   "outputs": [
    {
     "name": "stdout",
     "output_type": "stream",
     "text": [
      "8845298710478780097089917746010122863172\n",
      "\n",
      "7118894281131329522745962455498123822408\n",
      "\n",
      "3145174608888893164151380152060704518227\n",
      "\n",
      "4898007782307156233272233185574899430355\n",
      "\n",
      "3935457818935112922347093546189672310389\n",
      "\n",
      "675099511510097048901761303198740246040\n",
      "\n",
      "4289914828771740133546190658266515171326\n",
      "\n",
      "4431066711454378260890386385593817521668\n",
      "\n",
      "7336876124195046397414235333675005372436\n",
      "\n"
     ]
    }
   ],
   "source": [
    "'''\n",
    "5. (20 points) Implement the Blum-Blum-Shub PRNG \n",
    "\n",
    "Section 2.10 (pp. 41-43) describes the Blum-Blum-Shub algorithm for \n",
    "generating cryptographically secure pseudo-random bits. Implement the \n",
    "algorithm as a program to reproduce the results on page 43. \n",
    "\n",
    "That is, your program should:\n",
    "\n",
    "    a.  Hardcode the values for p and q;\n",
    "    b.  Compute n from those;\n",
    "    c.  Using the value given for x, compute and print the values x0, x1, \n",
    "        ..., x8. For the moment, don't worry about producing the values \n",
    "        b0, b1, ..., b8.\n",
    "\n",
    "Your answer will be a source file in Python or Java. \n",
    "Please call it bbsprng.{java,py}.\n",
    "\n",
    "\n",
    "'''\n",
    "\n",
    "def bbsprng():\n",
    "    result = [0] * 9\n",
    "\n",
    "    # a.\n",
    "    p = 24672462467892469787\n",
    "    q = 396736894567834589803\n",
    "    \n",
    "    # b.\n",
    "    n = p * q\n",
    "    x = 873245647888478349013\n",
    "\n",
    "    # c.\n",
    "    for i in range(9):\n",
    "        x = (x**2) % n\n",
    "        result[i] = x\n",
    "    \n",
    "    return result\n",
    "\n",
    "result = bbsprng()\n",
    "for i in range(len(result)):\n",
    "    print(str(result[i]) + \"\\n\")"
   ]
  },
  {
   "cell_type": "code",
   "execution_count": null,
   "metadata": {},
   "outputs": [],
   "source": []
  },
  {
   "cell_type": "code",
   "execution_count": null,
   "metadata": {},
   "outputs": [],
   "source": []
  },
  {
   "cell_type": "code",
   "execution_count": null,
   "metadata": {},
   "outputs": [],
   "source": []
  },
  {
   "cell_type": "code",
   "execution_count": null,
   "metadata": {},
   "outputs": [],
   "source": []
  }
 ],
 "metadata": {
  "kernelspec": {
   "display_name": "Python 3",
   "language": "python",
   "name": "python3"
  },
  "language_info": {
   "codemirror_mode": {
    "name": "ipython",
    "version": 3
   },
   "file_extension": ".py",
   "mimetype": "text/x-python",
   "name": "python",
   "nbconvert_exporter": "python",
   "pygments_lexer": "ipython3",
   "version": "3.7.4"
  }
 },
 "nbformat": 4,
 "nbformat_minor": 2
}
