{
 "cells": [
  {
   "cell_type": "code",
   "execution_count": null,
   "metadata": {},
   "outputs": [],
   "source": [
    "'''\n",
    "5. (20 points) Implement the Blum-Blum-Shub PRNG \n",
    "\n",
    "Section 2.10 (pp. 41-43) describes the Blum-Blum-Shub algorithm for \n",
    "generating cryptographically secure pseudo-random bits. Implement the \n",
    "algorithm as a program to reproduce the results on page 43. \n",
    "\n",
    "That is, your program should:\n",
    "\n",
    "    a.  Hardcode the values for p and q;\n",
    "    b.  Compute n from those;\n",
    "    c.  Using the value given for x, compute and print the values x0, x1, ..., x8. For the moment, don't worry about producing the values b0, b1, ..., b8.\n",
    "\n",
    "Your answer will be a source file in Python or Java. \n",
    "Please call it bbsprng.{java,py}.\n",
    "\n",
    "\n",
    "'''\n",
    "\n"
   ]
  }
 ],
 "metadata": {
  "kernelspec": {
   "display_name": "Python 3",
   "language": "python",
   "name": "python3"
  },
  "language_info": {
   "codemirror_mode": {
    "name": "ipython",
    "version": 3
   },
   "file_extension": ".py",
   "mimetype": "text/x-python",
   "name": "python",
   "nbconvert_exporter": "python",
   "pygments_lexer": "ipython3",
   "version": "3.7.4"
  }
 },
 "nbformat": 4,
 "nbformat_minor": 2
}
